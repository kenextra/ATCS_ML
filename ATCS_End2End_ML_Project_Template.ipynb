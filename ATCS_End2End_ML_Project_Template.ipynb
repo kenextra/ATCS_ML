{
  "nbformat": 4,
  "nbformat_minor": 0,
  "metadata": {
    "colab": {
      "name": "ATCS End2End ML Project Template.ipynb",
      "provenance": [],
      "collapsed_sections": [
        "uk8zJymk1fYi",
        "i0VrOa5V4QFY",
        "Txwo0khbHK2p",
        "jHQFh1DTCfU4",
        "uXK3hGyT1LMI",
        "dmVdEx7QREPK",
        "3NCFMXoJRIc2",
        "mm-ao7P-1P_H",
        "mrYePfC_1WXQ",
        "_mmMekqc3VrK",
        "UUDBDGLZDj25",
        "JxQAFtnwIa0c",
        "UITyInRR3Vbb",
        "ZddiEY_yVWIZ",
        "C01fp3n1VhGp",
        "feT1jrB0Vayy",
        "jiKTCTy13gbb",
        "44SjIJqHZYUd",
        "ogub4r5qE4p-",
        "-Dgs7ZZ3aYrE",
        "qo3iUrpO1ZZd",
        "I1vCOku1bWys",
        "DWlQ6KAlIhFp",
        "MFo_JCMDlwpP",
        "OrI0JO78bNyJ",
        "8v884ms5bQp-"
      ],
      "authorship_tag": "ABX9TyPfx3me/hK7fOMVQVzOwwQ7",
      "include_colab_link": true
    },
    "kernelspec": {
      "name": "python3",
      "display_name": "Python 3"
    },
    "language_info": {
      "name": "python"
    }
  },
  "cells": [
    {
      "cell_type": "markdown",
      "metadata": {
        "id": "view-in-github",
        "colab_type": "text"
      },
      "source": [
        "<a href=\"https://colab.research.google.com/github/kenextra/ATCS_ML/blob/main/ATCS_End2End_ML_Project_Template.ipynb\" target=\"_parent\"><img src=\"https://colab.research.google.com/assets/colab-badge.svg\" alt=\"Open In Colab\"/></a>"
      ]
    },
    {
      "cell_type": "markdown",
      "metadata": {
        "id": "uk8zJymk1fYi"
      },
      "source": [
        "# End to End Machine Learning Project Steps\n",
        "\n",
        "1.   Look at the big picture.\n",
        "2.   Get the data.\n",
        "3.   Discover and visualize the data to gain insights.\n",
        "4.   Prepare the data for Machine Learning algorithms.\n",
        "5.   Select a model and train it.\n",
        "6.   Fine-tune your model.\n",
        "7.   Present your solution.\n",
        "8.   Launch, monitor, and maintain your system.\n"
      ]
    },
    {
      "cell_type": "markdown",
      "metadata": {
        "id": "i0VrOa5V4QFY"
      },
      "source": [
        "# Frame the Problem"
      ]
    },
    {
      "cell_type": "markdown",
      "metadata": {
        "id": "Txwo0khbHK2p"
      },
      "source": [
        "## A Taxi Fleet and the Challenge of Dispatching\n",
        "\n",
        "### Problem Statement\n",
        "The demand for taxis changes throughout the day, so how can we make the dispatching more efficient by sending the taxicabs to the places that have more requests at different times of the day? Could the data available from 2015 help?"
      ]
    },
    {
      "cell_type": "markdown",
      "metadata": {
        "id": "jHQFh1DTCfU4"
      },
      "source": [
        "## Type of Problem\n",
        "\n",
        "*   Supervised\n",
        "*   Unsupervised\n",
        "\n",
        "## Type of ML Task\n",
        "\n",
        "*   Classification\n",
        "*   Regression\n",
        "\n",
        "## Select a Performance Measure"
      ]
    },
    {
      "cell_type": "markdown",
      "metadata": {
        "id": "uXK3hGyT1LMI"
      },
      "source": [
        "# Data collection"
      ]
    },
    {
      "cell_type": "markdown",
      "metadata": {
        "id": "dmVdEx7QREPK"
      },
      "source": [
        "## Download Data"
      ]
    },
    {
      "cell_type": "markdown",
      "metadata": {
        "id": "3NCFMXoJRIc2"
      },
      "source": [
        "## Load data to memory"
      ]
    },
    {
      "cell_type": "markdown",
      "metadata": {
        "id": "mm-ao7P-1P_H"
      },
      "source": [
        "# Data Exploration/Visualization"
      ]
    },
    {
      "cell_type": "markdown",
      "metadata": {
        "id": "mrYePfC_1WXQ"
      },
      "source": [
        "# Model Training"
      ]
    },
    {
      "cell_type": "markdown",
      "metadata": {
        "id": "_mmMekqc3VrK"
      },
      "source": [
        "## Prepare the data for Machine Learning algorithms."
      ]
    },
    {
      "cell_type": "markdown",
      "metadata": {
        "id": "UUDBDGLZDj25"
      },
      "source": [
        "### Data Cleaning / Feature selection"
      ]
    },
    {
      "cell_type": "markdown",
      "metadata": {
        "id": "JxQAFtnwIa0c"
      },
      "source": [
        "### Create Train/Test Set"
      ]
    },
    {
      "cell_type": "markdown",
      "metadata": {
        "id": "UITyInRR3Vbb"
      },
      "source": [
        "## Select a model and train it and evaluate on the Test Set"
      ]
    },
    {
      "cell_type": "markdown",
      "metadata": {
        "id": "ZddiEY_yVWIZ"
      },
      "source": [
        "### Linear Regression Model"
      ]
    },
    {
      "cell_type": "markdown",
      "metadata": {
        "id": "C01fp3n1VhGp"
      },
      "source": [
        "### Decision Tree Regressor"
      ]
    },
    {
      "cell_type": "markdown",
      "metadata": {
        "id": "feT1jrB0Vayy"
      },
      "source": [
        "### Random Forest Regressor"
      ]
    },
    {
      "cell_type": "markdown",
      "metadata": {
        "id": "jiKTCTy13gbb"
      },
      "source": [
        "## Fine-tune your model."
      ]
    },
    {
      "cell_type": "markdown",
      "metadata": {
        "id": "44SjIJqHZYUd"
      },
      "source": [
        "## Select and retrain best model"
      ]
    },
    {
      "cell_type": "markdown",
      "metadata": {
        "id": "ogub4r5qE4p-"
      },
      "source": [
        "## Save Trained Model"
      ]
    },
    {
      "cell_type": "markdown",
      "metadata": {
        "id": "-Dgs7ZZ3aYrE"
      },
      "source": [
        "## Evaluate on new data"
      ]
    },
    {
      "cell_type": "markdown",
      "metadata": {
        "id": "qo3iUrpO1ZZd"
      },
      "source": [
        "# Model Deployment\n"
      ]
    },
    {
      "cell_type": "markdown",
      "metadata": {
        "id": "I1vCOku1bWys"
      },
      "source": [
        "## Public Cloud Options\n",
        "\n",
        "- Heroku\n",
        "- GCP\n",
        "- AWS\n",
        "- Azure"
      ]
    },
    {
      "cell_type": "markdown",
      "metadata": {
        "id": "DWlQ6KAlIhFp"
      },
      "source": [
        "# Resources"
      ]
    },
    {
      "cell_type": "markdown",
      "metadata": {
        "id": "MFo_JCMDlwpP"
      },
      "source": [
        "## Books\n",
        "\n",
        "[Hands-On Machine Learning with Scikit-Learn, Keras, and TensorFlow, 2nd Edition](https://www.oreilly.com/library/view/hands-on-machine-learning/9781492032632/)"
      ]
    },
    {
      "cell_type": "markdown",
      "metadata": {
        "id": "OrI0JO78bNyJ"
      },
      "source": [
        "## Dataset\n",
        "- [Taxi Data](https://www.mathworks.com/supportfiles/practicaldsmatlab/taxi/Taxi%20Data.zip) - Two percent of the total trips sampled at random from each month of 2015.\n",
        "- [Full Dataset](https://www1.nyc.gov/site/tlc/about/tlc-trip-record-data.page) - 12 years (2009 –2020) worth of Data available"
      ]
    },
    {
      "cell_type": "markdown",
      "metadata": {
        "id": "8v884ms5bQp-"
      },
      "source": [
        "## Coursera Courses\n",
        "  1. [IBM Machine Learning Professional Certificate](https://www.coursera.org/professional-certificates/ibm-machine-learning)\n",
        "  2. [Practical Data Science with MATLAB Specialization](https://www.coursera.org/specializations/practical-data-science-matlab)"
      ]
    }
  ]
}