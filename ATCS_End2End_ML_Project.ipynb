{
  "nbformat": 4,
  "nbformat_minor": 0,
  "metadata": {
    "colab": {
      "name": "ATCS End2End ML Project.ipynb",
      "provenance": [],
      "collapsed_sections": [
        "uk8zJymk1fYi",
        "i0VrOa5V4QFY",
        "Txwo0khbHK2p",
        "jHQFh1DTCfU4",
        "uXK3hGyT1LMI",
        "dmVdEx7QREPK",
        "3NCFMXoJRIc2",
        "mm-ao7P-1P_H",
        "mrYePfC_1WXQ",
        "_mmMekqc3VrK",
        "UUDBDGLZDj25",
        "JxQAFtnwIa0c",
        "UITyInRR3Vbb",
        "ZddiEY_yVWIZ",
        "C01fp3n1VhGp",
        "feT1jrB0Vayy",
        "jiKTCTy13gbb",
        "44SjIJqHZYUd",
        "ogub4r5qE4p-",
        "-Dgs7ZZ3aYrE",
        "qo3iUrpO1ZZd",
        "I1vCOku1bWys",
        "DWlQ6KAlIhFp",
        "MFo_JCMDlwpP",
        "OrI0JO78bNyJ",
        "8v884ms5bQp-"
      ],
      "authorship_tag": "ABX9TyORQrkMoGZy/dgnBtba5RH1",
      "include_colab_link": true
    },
    "kernelspec": {
      "name": "python3",
      "display_name": "Python 3"
    },
    "language_info": {
      "name": "python"
    }
  },
  "cells": [
    {
      "cell_type": "markdown",
      "metadata": {
        "id": "view-in-github",
        "colab_type": "text"
      },
      "source": [
        "<a href=\"https://colab.research.google.com/github/kenextra/ATCS_ML/blob/main/ATCS_End2End_ML_Project.ipynb\" target=\"_parent\"><img src=\"https://colab.research.google.com/assets/colab-badge.svg\" alt=\"Open In Colab\"/></a>"
      ]
    },
    {
      "cell_type": "markdown",
      "metadata": {
        "id": "uk8zJymk1fYi"
      },
      "source": [
        "# End to End Machine Learning Project Steps\n",
        "\n",
        "1.   Look at the big picture.\n",
        "2.   Get the data.\n",
        "3.   Discover and visualize the data to gain insights.\n",
        "4.   Prepare the data for Machine Learning algorithms.\n",
        "5.   Select a model and train it.\n",
        "6.   Fine-tune your model.\n",
        "7.   Present your solution.\n",
        "8.   Launch, monitor, and maintain your system.\n"
      ]
    },
    {
      "cell_type": "markdown",
      "metadata": {
        "id": "i0VrOa5V4QFY"
      },
      "source": [
        "# Frame the Problem"
      ]
    },
    {
      "cell_type": "markdown",
      "metadata": {
        "id": "Txwo0khbHK2p"
      },
      "source": [
        "## A Taxi Fleet and the Challenge of Dispatching\n",
        "\n",
        "### Problem Statement\n",
        "The demand for taxis changes throughout the day, so how can we make the dispatching more efficient by sending the taxicabs to the places that have more requests at different times of the day? Could the data available from 2015 help?"
      ]
    },
    {
      "cell_type": "markdown",
      "metadata": {
        "id": "jHQFh1DTCfU4"
      },
      "source": [
        "## Type of Problem\n",
        "\n",
        "*   Supervised\n",
        "*   Unsupervised\n",
        "\n",
        "## Type of ML Task\n",
        "\n",
        "*   Classification\n",
        "*   Regression\n",
        "\n",
        "## Select a Performance Measure"
      ]
    },
    {
      "cell_type": "code",
      "metadata": {
        "id": "tGjgTGbJFf48"
      },
      "source": [
        "# upgrade scikit-learn and restart runtime\n",
        "%%bash\n",
        "pip install --upgrade pandas --quiet\n",
        "pip install --upgrade scikit-learn --quiet"
      ],
      "execution_count": null,
      "outputs": []
    },
    {
      "cell_type": "markdown",
      "metadata": {
        "id": "uXK3hGyT1LMI"
      },
      "source": [
        "# Data collection"
      ]
    },
    {
      "cell_type": "markdown",
      "metadata": {
        "id": "dmVdEx7QREPK"
      },
      "source": [
        "## Download Data"
      ]
    },
    {
      "cell_type": "code",
      "metadata": {
        "id": "7nJBbjXKPnOH"
      },
      "source": [
        "import urllib.request\n",
        "from zipfile import ZipFile"
      ],
      "execution_count": null,
      "outputs": []
    },
    {
      "cell_type": "code",
      "metadata": {
        "id": "J4bsal-db1yi"
      },
      "source": [
        "DATA_URL = \"https://www.mathworks.com/supportfiles/practicaldsmatlab/taxi/Taxi%20Data.zip\"\n",
        "DATA_NAME = \"TaxiData.zip\"\n",
        "urllib.request.urlretrieve(DATA_URL, DATA_NAME)"
      ],
      "execution_count": null,
      "outputs": []
    },
    {
      "cell_type": "code",
      "metadata": {
        "id": "HNao-UxYPr3c"
      },
      "source": [
        "# Create a ZipFile Object and load data in it\n",
        "with ZipFile(DATA_NAME, 'r') as zipObj:\n",
        "   # Extract all the contents of zip file in current directory\n",
        "   zipObj.extractall()"
      ],
      "execution_count": null,
      "outputs": []
    },
    {
      "cell_type": "code",
      "metadata": {
        "id": "6uTmws9LPtHm"
      },
      "source": [
        "from pathlib import Path\n",
        "DATA_DIR = Path.cwd() / 'Taxi Data'"
      ],
      "execution_count": null,
      "outputs": []
    },
    {
      "cell_type": "markdown",
      "metadata": {
        "id": "3NCFMXoJRIc2"
      },
      "source": [
        "## Load data to memory"
      ]
    },
    {
      "cell_type": "code",
      "metadata": {
        "id": "w6tSMX9oUZoV"
      },
      "source": [
        "import pandas as pd\n",
        "import numpy as np\n",
        "import sklearn\n",
        "sklearn.__version__"
      ],
      "execution_count": null,
      "outputs": []
    },
    {
      "cell_type": "code",
      "metadata": {
        "id": "s3O-Kr7dUaqe"
      },
      "source": [
        "pd.__version__"
      ],
      "execution_count": null,
      "outputs": []
    },
    {
      "cell_type": "code",
      "metadata": {
        "id": "XV4_WQ2TRM9e"
      },
      "source": [
        "col_names = ['VendorID',\n",
        " 'tpep_pickup_datetime',\n",
        " 'tpep_dropoff_datetime',\n",
        " 'passenger_count',\n",
        " 'trip_distance',\n",
        " 'pickup_longitude',\n",
        " 'pickup_latitude',\n",
        " 'RateCodeID',\n",
        " 'store_and_fwd_flag',\n",
        " 'dropoff_longitude',\n",
        " 'dropoff_latitude',\n",
        " 'payment_type',\n",
        " 'fare_amount',\n",
        " 'extra',\n",
        " 'mta_tax',\n",
        " 'tip_amount',\n",
        " 'tolls_amount',\n",
        " 'improvement_surcharge',\n",
        " 'total_amount']\n",
        "\n",
        "parse_dates = [\"tpep_pickup_datetime\", \"tpep_dropoff_datetime\"]\n",
        "\n",
        "dtype = {'RateCodeID': str, 'payment_type': str, 'VendorID': str, 'RatecodeID': str,}"
      ],
      "execution_count": null,
      "outputs": []
    },
    {
      "cell_type": "code",
      "metadata": {
        "id": "ORLEQX_QRSVf"
      },
      "source": [
        "df_from_each_file = (pd.read_csv(f, parse_dates=parse_dates,\n",
        "                                 names=col_names, dtype=dtype,\n",
        "                                 low_memory=False,\n",
        "                                 skiprows=1)\n",
        "                        for f in DATA_DIR.iterdir()\n",
        "                        if 'yellow' in str(f))\n",
        "df = pd.concat(df_from_each_file, ignore_index=True)"
      ],
      "execution_count": null,
      "outputs": []
    },
    {
      "cell_type": "markdown",
      "metadata": {
        "id": "mm-ao7P-1P_H"
      },
      "source": [
        "# Data Exploration/Visualization"
      ]
    },
    {
      "cell_type": "code",
      "metadata": {
        "id": "hE3llG_tRXKm"
      },
      "source": [
        "df.head()"
      ],
      "execution_count": null,
      "outputs": []
    },
    {
      "cell_type": "code",
      "metadata": {
        "id": "BdGcH-c2RZ7B"
      },
      "source": [
        "df.info(show_counts=True)"
      ],
      "execution_count": null,
      "outputs": []
    },
    {
      "cell_type": "code",
      "metadata": {
        "id": "hkMUX4-GRcT6"
      },
      "source": [
        "df.describe().loc[['min', 'max']]"
      ],
      "execution_count": null,
      "outputs": []
    },
    {
      "cell_type": "code",
      "metadata": {
        "id": "-WnJxvSoRk1K"
      },
      "source": [
        "df.describe(include=['object', 'bool'])"
      ],
      "execution_count": null,
      "outputs": []
    },
    {
      "cell_type": "code",
      "metadata": {
        "id": "ewILcO0cSAvW"
      },
      "source": [
        "_ = df.plot(kind=\"scatter\", x='pickup_longitude', y='pickup_latitude',)"
      ],
      "execution_count": null,
      "outputs": []
    },
    {
      "cell_type": "code",
      "metadata": {
        "id": "vzfp57nISBih"
      },
      "source": [
        "_ = df.plot(kind=\"scatter\", x='dropoff_longitude', y='dropoff_latitude',)"
      ],
      "execution_count": null,
      "outputs": []
    },
    {
      "cell_type": "code",
      "metadata": {
        "id": "N4ML6x8ORu2_"
      },
      "source": [
        "Payment_Type = {\"1\": \"Credit card\",\n",
        "                \"2\": \"Cash\",\n",
        "                \"3\": \"No charge\",\n",
        "                \"4\": \"Dispute\",\n",
        "                \"5\": \"Unknown\",\n",
        "                \"6\": \"Voided trip\", }\n",
        "\n",
        "RateCode = {\"1\": \"Standard rate\",\n",
        "            \"2\": \"JFK\",\n",
        "            \"3\": \"Newark\",\n",
        "            \"4\": \"Nassau or Westchester\",\n",
        "            \"5\": \"Negotiated fare\",\n",
        "            \"6\": \"Group ride\",\n",
        "            \"99\": \"99\"}\n",
        "\n",
        "VendorID = {\"1\": \"Creative Mobile Technologies, LLC\",\n",
        "            \"2\": \"VeriFone Inc.\", }\n",
        "\n",
        "\n",
        "# Bounding latitude/longitude\n",
        "lat = [40.5612, 40.9637]\n",
        "lon = [-74.1923, -73.5982]"
      ],
      "execution_count": null,
      "outputs": []
    },
    {
      "cell_type": "code",
      "metadata": {
        "id": "PKDTwQ6qRzxi"
      },
      "source": [
        "def basic_preprocessing(df=None):\n",
        "    print('Converting categorical features to their corresponding values...\\n')\n",
        "    df.loc[:, 'payment_type'] = df['payment_type'].apply(lambda x: Payment_Type[x])\n",
        "    df.loc[:, 'RateCodeID'] = df['RateCodeID'].apply(lambda x: RateCode[x])\n",
        "    df.loc[:, 'VendorID'] = df['VendorID'].apply(lambda x: VendorID[x])\n",
        "\n",
        "    # Remove invalid charges\n",
        "    # Only keep trips (rows) containing valid charges.\n",
        "    print('Removing invalid charges...\\n')\n",
        "    df.query('RateCodeID != \"99\"', inplace=True)\n",
        "    df.query('fare_amount > 0', inplace=True)\n",
        "    df.query('extra >= 0', inplace=True)\n",
        "    df.query('mta_tax >= 0', inplace=True)\n",
        "    df.query('tip_amount >= 0', inplace=True)\n",
        "    df.query('tolls_amount >= 0', inplace=True)\n",
        "    df.query('improvement_surcharge >= 0', inplace=True)\n",
        "    df.query('total_amount > 0', inplace=True)\n",
        "\n",
        "    # Only keep trips where charges match the expected values.\n",
        "    # ImpSurcharge is $0.30\n",
        "    # Tax is $0.50\n",
        "    # Total is the sum of all charges\n",
        "    df.query('abs(improvement_surcharge-0.3) < 0.01', inplace=True)\n",
        "    df.query('abs(mta_tax-0.5) < 0.01', inplace=True)\n",
        "    df.query('abs(fare_amount+extra+mta_tax+tip_amount+tolls_amount+improvement_surcharge-total_amount) < 0.01', inplace=True)\n",
        "\n",
        "    # Remove invalid trip information\n",
        "    # Only keep trips with valid passenger and distance information.\n",
        "    print('Removing invalid trip information...\\n')\n",
        "    df.query('passenger_count > 0', inplace=True)\n",
        "    df.query('trip_distance > 0', inplace=True)\n",
        "\n",
        "    # Remove outliers\n",
        "    # Only keep trips with pickup and drop off locations inside the region of interest.\n",
        "    print('Keep trips with pickup and drop off locations inside the region of interest\\n')\n",
        "    df.query(f'pickup_longitude >= {lon[0]} & pickup_longitude <= {lon[1]}', inplace=True)\n",
        "    df.query(f'dropoff_longitude >= {lon[0]} & dropoff_longitude <= {lon[1]}', inplace=True)\n",
        "    df.query(f'pickup_latitude >= {lat[0]} & pickup_latitude <= {lat[1]}', inplace=True)\n",
        "    df.query(f'dropoff_latitude >= {lat[0]} & dropoff_latitude <= {lat[1]}', inplace=True)\n",
        "\n",
        "    # Only keep trips with typical values\n",
        "    # Typical trip\n",
        "    print('Only keep trips with typical values..\\n')\n",
        "    # df.query('duration >= 1 & duration <= 120', inplace=True)\n",
        "    df.query('trip_distance >= 0.01 & trip_distance <= 50', inplace=True)\n",
        "\n",
        "    # Typical charges\n",
        "    df.query('fare_amount >= 0.01 & fare_amount <= 100', inplace=True)\n",
        "    df.query('tolls_amount <= 20', inplace=True)\n",
        "    df.query('total_amount >= 0.5 & total_amount <= 120', inplace=True)\n",
        "\n",
        "    df.reset_index(inplace=True, drop=True)\n",
        "    return df"
      ],
      "execution_count": null,
      "outputs": []
    },
    {
      "cell_type": "code",
      "metadata": {
        "id": "AuW90GP2R6FM"
      },
      "source": [
        "df = basic_preprocessing(df.copy())"
      ],
      "execution_count": null,
      "outputs": []
    },
    {
      "cell_type": "code",
      "metadata": {
        "id": "WRFY9tiSc9SS"
      },
      "source": [
        "df.describe().loc[['min', 'max']]"
      ],
      "execution_count": null,
      "outputs": []
    },
    {
      "cell_type": "code",
      "metadata": {
        "id": "ZSAIB6pKSHNm"
      },
      "source": [
        "_ = df.plot(kind=\"scatter\", x='pickup_longitude', y='pickup_latitude',)"
      ],
      "execution_count": null,
      "outputs": []
    },
    {
      "cell_type": "code",
      "metadata": {
        "id": "GyDYeajySIOI"
      },
      "source": [
        "_ = df.plot(kind=\"scatter\", x='dropoff_longitude', y='dropoff_latitude',)"
      ],
      "execution_count": null,
      "outputs": []
    },
    {
      "cell_type": "code",
      "metadata": {
        "id": "3Zm-1u8FSfkN"
      },
      "source": [
        "Names = [\"Manhattan\", \"LaGuardia\", \"JFK\"]\n",
        "Lat1 = [40.7485, 40.766, 40.639]\n",
        "Lat2 = [40.7576, 40.776, 40.650]\n",
        "Lon1 = [-73.9955, -73.876, -73.793]\n",
        "Lon2 = [-73.9773, -73.861, -73.775]"
      ],
      "execution_count": null,
      "outputs": []
    },
    {
      "cell_type": "code",
      "metadata": {
        "id": "735Weg3FSnzx"
      },
      "source": [
        "for i, loc in enumerate(Names):\n",
        "    isInBox = (df.pickup_latitude >= Lat1[i]) & (df.pickup_latitude <= Lat2[i]) & (df.pickup_longitude >= Lon1[i]) & (df.pickup_longitude <= Lon2[i])    \n",
        "    # df.Location[isInBox] = loc\n",
        "    df.loc[isInBox, 'location'] = loc\n",
        "\n",
        "df['location'] = df.location.astype(\"category\")"
      ],
      "execution_count": null,
      "outputs": []
    },
    {
      "cell_type": "code",
      "metadata": {
        "id": "J76ldEsgSyPT"
      },
      "source": [
        "df.dropna(inplace=True)\n",
        "\n",
        "df['pickup_time'] = pd.to_datetime(df['tpep_pickup_datetime'].dt.strftime(\"%Y-%m-%d %H\"))"
      ],
      "execution_count": null,
      "outputs": []
    },
    {
      "cell_type": "markdown",
      "metadata": {
        "id": "mrYePfC_1WXQ"
      },
      "source": [
        "# Model Training"
      ]
    },
    {
      "cell_type": "markdown",
      "metadata": {
        "id": "_mmMekqc3VrK"
      },
      "source": [
        "## Prepare the data for Machine Learning algorithms."
      ]
    },
    {
      "cell_type": "markdown",
      "metadata": {
        "id": "UUDBDGLZDj25"
      },
      "source": [
        "### Data Cleaning / Feature selection"
      ]
    },
    {
      "cell_type": "code",
      "metadata": {
        "id": "aiRUUAb7TwIm"
      },
      "source": [
        "taxi_pickups = df.groupby(by=['pickup_time', 'location'], as_index=False, dropna=False, )['passenger_count'].count()\n",
        "taxi_pickups.columns = ['pickup_time', 'location', 'trip_count']"
      ],
      "execution_count": null,
      "outputs": []
    },
    {
      "cell_type": "code",
      "metadata": {
        "id": "oIk39BVxT09T"
      },
      "source": [
        "taxi_pickups.head(10)"
      ],
      "execution_count": null,
      "outputs": []
    },
    {
      "cell_type": "code",
      "metadata": {
        "colab": {
          "base_uri": "https://localhost:8080/"
        },
        "id": "YM7o4A1MT1nF",
        "outputId": "eeaa3a04-1e26-4c06-9cc1-25e3d85df646"
      },
      "source": [
        "taxi_pickups.shape"
      ],
      "execution_count": null,
      "outputs": [
        {
          "output_type": "execute_result",
          "data": {
            "text/plain": [
              "(26217, 3)"
            ]
          },
          "metadata": {},
          "execution_count": 29
        }
      ]
    },
    {
      "cell_type": "code",
      "metadata": {
        "id": "2m8rE2OkT-d1"
      },
      "source": [
        "summary = taxi_pickups.groupby(by='location', as_index=False,\n",
        "                               sort=False, dropna=False\n",
        "                               )['trip_count'].agg({'size', 'min', 'max', 'mean', 'median'}) # .reset_index()\n",
        "summary.reset_index()"
      ],
      "execution_count": null,
      "outputs": []
    },
    {
      "cell_type": "code",
      "metadata": {
        "id": "ISsLIBsTUBvk"
      },
      "source": [
        "taxi_pickups['timeofday'] = taxi_pickups.pickup_time.dt.hour\n",
        "taxi_pickups['dayofweek'] = taxi_pickups.pickup_time.dt.day_name()\n",
        "taxi_pickups['dayofmonth'] = taxi_pickups.pickup_time.dt.day\n",
        "taxi_pickups['dayofyear'] = taxi_pickups.pickup_time.dt.dayofyear\n",
        "taxi_pickups.head()"
      ],
      "execution_count": null,
      "outputs": []
    },
    {
      "cell_type": "code",
      "metadata": {
        "id": "zR7yEi-zUM2q"
      },
      "source": [
        "y = taxi_pickups['trip_count']\n",
        "X = taxi_pickups.drop(labels=['trip_count', 'pickup_time'], axis=1)\n",
        "\n",
        "X.head()"
      ],
      "execution_count": null,
      "outputs": []
    },
    {
      "cell_type": "markdown",
      "metadata": {
        "id": "JxQAFtnwIa0c"
      },
      "source": [
        "### Create Train/Test Set"
      ]
    },
    {
      "cell_type": "code",
      "metadata": {
        "id": "5nyY02rWUqFW"
      },
      "source": [
        "from sklearn import set_config\n",
        "set_config(display=\"diagram\")\n",
        "from sklearn.metrics import r2_score, mean_squared_error\n",
        "from sklearn.model_selection import train_test_split, StratifiedShuffleSplit\n",
        "from sklearn.preprocessing import StandardScaler, OrdinalEncoder, OneHotEncoder, MinMaxScaler"
      ],
      "execution_count": null,
      "outputs": []
    },
    {
      "cell_type": "code",
      "metadata": {
        "id": "g_jOf2tiUxDX"
      },
      "source": [
        "strat_split = StratifiedShuffleSplit(n_splits=1, test_size=0.2, random_state=42)\n",
        "\n",
        "train_idx, test_idx = next(strat_split.split(X, X['location']))\n",
        "\n",
        "\n",
        "# Create the dataframes\n",
        "X_train = X.loc[train_idx, :]\n",
        "y_train = y.loc[train_idx,]\n",
        "\n",
        "X_test  = X.loc[test_idx, :]\n",
        "y_test  = y.loc[test_idx,]\n",
        "\n",
        "X_train.location.value_counts(normalize=True)"
      ],
      "execution_count": null,
      "outputs": []
    },
    {
      "cell_type": "markdown",
      "metadata": {
        "id": "UITyInRR3Vbb"
      },
      "source": [
        "## Select a model and train it and evaluate on the Test Set"
      ]
    },
    {
      "cell_type": "code",
      "metadata": {
        "id": "lcwyPXkZU10O"
      },
      "source": [
        "from sklearn.pipeline import Pipeline\n",
        "from sklearn.compose import ColumnTransformer"
      ],
      "execution_count": null,
      "outputs": []
    },
    {
      "cell_type": "code",
      "metadata": {
        "id": "An4bpjtJU6il"
      },
      "source": [
        "numerical_cols = X.select_dtypes(include=['int64', 'float64']).columns\n",
        "categorical_cols = X.select_dtypes(include=['object', 'bool', 'category']).columns\n",
        "numerical_cols, categorical_cols"
      ],
      "execution_count": null,
      "outputs": []
    },
    {
      "cell_type": "code",
      "metadata": {
        "id": "QApRDv_AU-sF"
      },
      "source": [
        "numerical_ix = [X.columns.get_loc(col) for col in numerical_cols]\n",
        "categorical_ix = [X.columns.get_loc(col) for col in categorical_cols]\n",
        "numerical_ix, categorical_ix"
      ],
      "execution_count": null,
      "outputs": []
    },
    {
      "cell_type": "code",
      "metadata": {
        "id": "qh2BM42XVA8X"
      },
      "source": [
        "num_pipeline = Pipeline([(\"num\", StandardScaler()),])\n",
        "\n",
        "cat_pipeline = Pipeline([(\"cat\", OrdinalEncoder()),])"
      ],
      "execution_count": null,
      "outputs": []
    },
    {
      "cell_type": "code",
      "metadata": {
        "id": "xPaMDHZ5VQPX"
      },
      "source": [
        "transformer = ColumnTransformer([\n",
        "                 (\"num_pipe\", num_pipeline, numerical_ix),\n",
        "                 (\"cat_pipe\", cat_pipeline, categorical_ix),\n",
        "                 ])\n",
        "transformer"
      ],
      "execution_count": null,
      "outputs": []
    },
    {
      "cell_type": "code",
      "metadata": {
        "id": "J11knFWXd7s5"
      },
      "source": [
        "pd.DataFrame(transformer.fit_transform(X_train), columns=['timeofday', 'dayofmonth', 'dayofyear', 'location', 'dayofweek'])"
      ],
      "execution_count": null,
      "outputs": []
    },
    {
      "cell_type": "code",
      "metadata": {
        "id": "G35TP66mBE-d"
      },
      "source": [
        "errors = list()\n",
        "scores = list()"
      ],
      "execution_count": null,
      "outputs": []
    },
    {
      "cell_type": "markdown",
      "metadata": {
        "id": "ZddiEY_yVWIZ"
      },
      "source": [
        "### Linear Regression Model"
      ]
    },
    {
      "cell_type": "code",
      "metadata": {
        "id": "1zUw6gyyVmx3"
      },
      "source": [
        "from sklearn.linear_model import LinearRegression"
      ],
      "execution_count": null,
      "outputs": []
    },
    {
      "cell_type": "code",
      "metadata": {
        "id": "Z1qOgv_iAEbm"
      },
      "source": [
        "mdl = LinearRegression()\n",
        "lr_estimator = Pipeline([('preparation', transformer), \n",
        "                     ('model', mdl)\n",
        "                     ])"
      ],
      "execution_count": null,
      "outputs": []
    },
    {
      "cell_type": "code",
      "metadata": {
        "id": "qnq43pd_AlDx"
      },
      "source": [
        "lr_estimator.fit(X_train, y_train)"
      ],
      "execution_count": null,
      "outputs": []
    },
    {
      "cell_type": "code",
      "metadata": {
        "id": "mVFST6MKAwnd"
      },
      "source": [
        "# predict\n",
        "y_train_pred = lr_estimator.predict(X_train)\n",
        "y_test_pred = lr_estimator.predict(X_test)\n",
        "\n",
        "errors.append(pd.Series({'train': r2_score(y_train, y_train_pred),\n",
        "           'test' : r2_score(y_test, y_test_pred)},\n",
        "          name='LR_score'))\n",
        "\n",
        "errors.append(pd.Series({'train': mean_squared_error(y_train, y_train_pred, squared=False),\n",
        "           'test' : mean_squared_error(y_test,  y_test_pred, squared=False)},\n",
        "          name='LR_rmse'))\n",
        "\n",
        "pd.concat(errors, axis=1)"
      ],
      "execution_count": null,
      "outputs": []
    },
    {
      "cell_type": "markdown",
      "metadata": {
        "id": "C01fp3n1VhGp"
      },
      "source": [
        "### Decision Tree Regressor"
      ]
    },
    {
      "cell_type": "code",
      "metadata": {
        "id": "8DQZtBC1V50x"
      },
      "source": [
        "from sklearn.tree import DecisionTreeRegressor"
      ],
      "execution_count": null,
      "outputs": []
    },
    {
      "cell_type": "code",
      "metadata": {
        "id": "2zG2gjkSBcCg"
      },
      "source": [
        "mdl = DecisionTreeRegressor()\n",
        "dt_estimator = Pipeline([('preparation', transformer), \n",
        "                     ('model', mdl)\n",
        "                     ])"
      ],
      "execution_count": null,
      "outputs": []
    },
    {
      "cell_type": "code",
      "metadata": {
        "id": "zqluaw4BCAfv"
      },
      "source": [
        "dt_estimator.fit(X_train, y_train)"
      ],
      "execution_count": null,
      "outputs": []
    },
    {
      "cell_type": "code",
      "metadata": {
        "id": "RwWauLoTBuEn"
      },
      "source": [
        "# predict\n",
        "y_train_pred = dt_estimator.predict(X_train)\n",
        "y_test_pred = dt_estimator.predict(X_test)\n",
        "\n",
        "errors.append(pd.Series({'train': r2_score(y_train, y_train_pred),\n",
        "           'test' : r2_score(y_test, y_test_pred)},\n",
        "          name='DT_score'))\n",
        "\n",
        "errors.append(pd.Series({'train': mean_squared_error(y_train, y_train_pred, squared=False),\n",
        "           'test' : mean_squared_error(y_test,  y_test_pred, squared=False)},\n",
        "          name='DT_rmse'))\n",
        "\n",
        "pd.concat(errors, axis=1)"
      ],
      "execution_count": null,
      "outputs": []
    },
    {
      "cell_type": "markdown",
      "metadata": {
        "id": "feT1jrB0Vayy"
      },
      "source": [
        "### Random Forest Regressor"
      ]
    },
    {
      "cell_type": "code",
      "metadata": {
        "id": "2nmEHTT_f1E6"
      },
      "source": [
        "from sklearn.ensemble import RandomForestRegressor"
      ],
      "execution_count": null,
      "outputs": []
    },
    {
      "cell_type": "code",
      "metadata": {
        "id": "jOyuokPYYr_x"
      },
      "source": [
        "mdl = RandomForestRegressor()\n",
        "rfr_estimator = Pipeline([('preparation', transformer), \n",
        "                     ('model', mdl)\n",
        "                     ])"
      ],
      "execution_count": null,
      "outputs": []
    },
    {
      "cell_type": "code",
      "metadata": {
        "id": "Vr7qM7d-Yr_0"
      },
      "source": [
        "rfr_estimator.fit(X_train, y_train)"
      ],
      "execution_count": null,
      "outputs": []
    },
    {
      "cell_type": "code",
      "metadata": {
        "id": "G7svSfxXYr_2"
      },
      "source": [
        "# predict\n",
        "y_train_pred = rfr_estimator.predict(X_train)\n",
        "y_test_pred = rfr_estimator.predict(X_test)\n",
        "\n",
        "errors.append(pd.Series({'train': r2_score(y_train, y_train_pred),\n",
        "           'test' : r2_score(y_test, y_test_pred)},\n",
        "          name='RFR_score'))\n",
        "\n",
        "errors.append(pd.Series({'train': mean_squared_error(y_train, y_train_pred, squared=False),\n",
        "           'test' : mean_squared_error(y_test,  y_test_pred, squared=False)},\n",
        "          name='RFR_rmse'))\n",
        "\n",
        "pd.concat(errors, axis=1)"
      ],
      "execution_count": null,
      "outputs": []
    },
    {
      "cell_type": "markdown",
      "metadata": {
        "id": "jiKTCTy13gbb"
      },
      "source": [
        "## Fine-tune your model."
      ]
    },
    {
      "cell_type": "code",
      "metadata": {
        "id": "rp-En0KhB8iW"
      },
      "source": [
        "from sklearn.model_selection import KFold\n",
        "from sklearn.model_selection import GridSearchCV"
      ],
      "execution_count": null,
      "outputs": []
    },
    {
      "cell_type": "code",
      "metadata": {
        "id": "opYBlWvBDBm0"
      },
      "source": [
        "rfr_estimator.get_params().keys()"
      ],
      "execution_count": null,
      "outputs": []
    },
    {
      "cell_type": "code",
      "metadata": {
        "id": "JccAhAHODIlk"
      },
      "source": [
        "# Set parameters\n",
        "MAX_DEPTH_OPTIONS = [15, 20]\n",
        "N_ESTIMATORS = [10, 15, 20, 30]\n",
        "params = {\n",
        "    'model__max_depth': MAX_DEPTH_OPTIONS,\n",
        "    'model__n_estimators': N_ESTIMATORS,\n",
        "}\n",
        "\n",
        "kf = KFold(shuffle=True, random_state=42, n_splits=5)"
      ],
      "execution_count": null,
      "outputs": []
    },
    {
      "cell_type": "code",
      "metadata": {
        "id": "v0JDvpGbDTu1"
      },
      "source": [
        "grid = GridSearchCV(rfr_estimator, params, verbose=10, n_jobs=1, cv=kf,\n",
        "                    scoring='neg_mean_squared_error', return_train_score=True)"
      ],
      "execution_count": null,
      "outputs": []
    },
    {
      "cell_type": "code",
      "metadata": {
        "id": "MY1qMIVbDbEn"
      },
      "source": [
        "grid.fit(X_train, y_train.values.ravel())"
      ],
      "execution_count": null,
      "outputs": []
    },
    {
      "cell_type": "code",
      "metadata": {
        "id": "4M-wGF4qDih6"
      },
      "source": [
        "grid.best_score_, grid.best_params_"
      ],
      "execution_count": null,
      "outputs": []
    },
    {
      "cell_type": "code",
      "metadata": {
        "id": "_girYEfWD8z8"
      },
      "source": [
        "grid.best_estimator_"
      ],
      "execution_count": null,
      "outputs": []
    },
    {
      "cell_type": "code",
      "metadata": {
        "id": "ZoV5HXQGEnRk"
      },
      "source": [
        "# predict\n",
        "y_train_pred = grid.predict(X_train)\n",
        "y_test_pred = grid.predict(X_test)\n",
        "\n",
        "errors.append(pd.Series({'train': r2_score(y_train_pred, y_train),\n",
        "           'test' : r2_score(y_test_pred, y_test)},\n",
        "          name='RFR_Grid_score'))\n",
        "\n",
        "errors.append(pd.Series({'train': mean_squared_error(y_train, y_train_pred, squared=False),\n",
        "           'test' : mean_squared_error(y_test,  y_test_pred, squared=False)},\n",
        "          name='RFR_Grid_rmse'))\n",
        "\n",
        "pd.concat(errors, axis=1)"
      ],
      "execution_count": null,
      "outputs": []
    },
    {
      "cell_type": "markdown",
      "metadata": {
        "id": "44SjIJqHZYUd"
      },
      "source": [
        "## Select and retrain best model"
      ]
    },
    {
      "cell_type": "code",
      "metadata": {
        "colab": {
          "base_uri": "https://localhost:8080/"
        },
        "id": "ZCXKKHIpGS1S",
        "outputId": "a7ed31ee-3c65-4e1a-f80c-142ffabb1177"
      },
      "source": [
        "parameters = grid.best_params_\n",
        "n_estimators = parameters['model__n_estimators']\n",
        "max_depth = parameters['model__max_depth']\n",
        "max_depth, n_estimators"
      ],
      "execution_count": null,
      "outputs": [
        {
          "output_type": "execute_result",
          "data": {
            "text/plain": [
              "(15, 30)"
            ]
          },
          "metadata": {},
          "execution_count": 69
        }
      ]
    },
    {
      "cell_type": "code",
      "metadata": {
        "id": "fsd89jvJGSnB"
      },
      "source": [
        "mdl = RandomForestRegressor(n_estimators=n_estimators,  max_depth=max_depth, random_state=42,)\n",
        "rfr_estimator = Pipeline([('preparation', transformer), \n",
        "                     ('model', mdl)\n",
        "                     ])"
      ],
      "execution_count": null,
      "outputs": []
    },
    {
      "cell_type": "code",
      "metadata": {
        "id": "OpHDmCbkGqCN"
      },
      "source": [
        "rfr_estimator.fit(X_train, y_train.values.ravel())"
      ],
      "execution_count": null,
      "outputs": []
    },
    {
      "cell_type": "code",
      "metadata": {
        "id": "0ucEiusiGx8E"
      },
      "source": [
        "# predict\n",
        "y_train_pred = rfr_estimator.predict(X_train)\n",
        "y_test_pred = rfr_estimator.predict(X_test)\n",
        "\n",
        "errors.append(pd.Series({'train': r2_score(y_train, y_train_pred),\n",
        "           'test' : r2_score(y_test, y_test_pred)},\n",
        "          name='mdl_score'))\n",
        "\n",
        "errors.append(pd.Series({'train': mean_squared_error(y_train, y_train_pred, squared=False),\n",
        "           'test' : mean_squared_error(y_test,  y_test_pred, squared=False)},\n",
        "          name='mdl_rmse'))\n",
        "\n",
        "pd.concat(errors, axis=1)"
      ],
      "execution_count": null,
      "outputs": []
    },
    {
      "cell_type": "markdown",
      "metadata": {
        "id": "ogub4r5qE4p-"
      },
      "source": [
        "## Save Trained Model"
      ]
    },
    {
      "cell_type": "code",
      "metadata": {
        "id": "1leD5LRoaJII"
      },
      "source": [
        "import joblib\n",
        "joblib.__version__"
      ],
      "execution_count": null,
      "outputs": []
    },
    {
      "cell_type": "code",
      "metadata": {
        "id": "Rea9JgsSaNQ2"
      },
      "source": [
        "joblib.dump(rfr_estimator, 'model.joblib')"
      ],
      "execution_count": null,
      "outputs": []
    },
    {
      "cell_type": "markdown",
      "metadata": {
        "id": "-Dgs7ZZ3aYrE"
      },
      "source": [
        "## Evaluate on new data"
      ]
    },
    {
      "cell_type": "code",
      "metadata": {
        "id": "li0-NHyVHHFs"
      },
      "source": [
        "from datetime import datetime"
      ],
      "execution_count": null,
      "outputs": []
    },
    {
      "cell_type": "code",
      "metadata": {
        "id": "BqTU3l_zLBGE"
      },
      "source": [
        "pkt = pd.date_range(start=td + ' 00:00:00', end=td + ' 23:59:59', periods=72)\n",
        "\n",
        "dff = pd.DataFrame({'pickup_time': pkt})\n",
        "\n",
        "dff['pickup_time'] = pd.to_datetime(dff['pickup_time'].dt.strftime(\"%Y-%m-%d %H\"))\n",
        "\n",
        "dff['location'] = Names * 24"
      ],
      "execution_count": null,
      "outputs": []
    },
    {
      "cell_type": "code",
      "metadata": {
        "id": "mt16pSfpPKQR"
      },
      "source": [
        "dff.head(15)"
      ],
      "execution_count": null,
      "outputs": []
    },
    {
      "cell_type": "code",
      "metadata": {
        "id": "mWC6Zg_mPjTA"
      },
      "source": [
        "dff['timeofday'] = dff.pickup_time.dt.hour\n",
        "dff['dayofweek'] = dff.pickup_time.dt.day_name()\n",
        "dff['dayofmonth'] = dff.pickup_time.dt.day\n",
        "dff['dayofyear'] = dff.pickup_time.dt.dayofyear\n",
        "\n",
        "dff.head()"
      ],
      "execution_count": null,
      "outputs": []
    },
    {
      "cell_type": "code",
      "metadata": {
        "colab": {
          "base_uri": "https://localhost:8080/"
        },
        "id": "koOe4KJxRX4n",
        "outputId": "65da1235-37a8-4bb1-c2a3-489ac297463c"
      },
      "source": [
        "data = dff[['location', 'timeofday', 'dayofweek', 'dayofmonth', 'dayofyear']]\n",
        "data.head()"
      ],
      "execution_count": null,
      "outputs": [
        {
          "output_type": "execute_result",
          "data": {
            "text/plain": [
              "(72, 5)"
            ]
          },
          "metadata": {},
          "execution_count": 86
        }
      ]
    },
    {
      "cell_type": "code",
      "metadata": {
        "id": "6KmSZWybhx6F"
      },
      "source": [
        "model = joblib.load('model.joblib')"
      ],
      "execution_count": null,
      "outputs": []
    },
    {
      "cell_type": "code",
      "metadata": {
        "id": "f8Vaisa-R8jq"
      },
      "source": [
        "dff['trip_count'] = model.predict(data)\n",
        "dff"
      ],
      "execution_count": null,
      "outputs": []
    },
    {
      "cell_type": "code",
      "metadata": {
        "id": "nL2JG8PCTGOe"
      },
      "source": [
        "pickups = dff.groupby(by=['pickup_time',], as_index=False, dropna=False, )['trip_count'].sum()\n",
        "pickups.columns = ['pickup_time', 'total_trip']\n",
        "pickups"
      ],
      "execution_count": null,
      "outputs": []
    },
    {
      "cell_type": "code",
      "metadata": {
        "id": "JxAPibmjSBPb"
      },
      "source": [
        "pickups = pd.merge(left=dff, right=pickups, how='inner', on='pickup_time')\n",
        "pickups['fraction'] = pickups.trip_count / pickups.total_trip\n",
        "pickups"
      ],
      "execution_count": null,
      "outputs": []
    },
    {
      "cell_type": "code",
      "metadata": {
        "id": "2qsOEm9eXKj5"
      },
      "source": [
        "fractions = pickups.pivot(index='pickup_time', columns='location', values='fraction')\n",
        "fractions"
      ],
      "execution_count": null,
      "outputs": []
    },
    {
      "cell_type": "code",
      "metadata": {
        "id": "G1Qv1iGJavwT"
      },
      "source": [
        "import matplotlib.pyplot as plt"
      ],
      "execution_count": null,
      "outputs": []
    },
    {
      "cell_type": "code",
      "metadata": {
        "id": "ARY-IIdUVZ6-"
      },
      "source": [
        "_ = fractions.plot(kind='bar', stacked=True, figsize=(12, 8))"
      ],
      "execution_count": null,
      "outputs": []
    },
    {
      "cell_type": "markdown",
      "metadata": {
        "id": "qo3iUrpO1ZZd"
      },
      "source": [
        "# Model Deployment\n"
      ]
    },
    {
      "cell_type": "markdown",
      "metadata": {
        "id": "I1vCOku1bWys"
      },
      "source": [
        "## Public Cloud Options\n",
        "\n",
        "- Heroku\n",
        "- GCP\n",
        "- AWS\n",
        "- Azure"
      ]
    },
    {
      "cell_type": "markdown",
      "metadata": {
        "id": "DWlQ6KAlIhFp"
      },
      "source": [
        "# Resources"
      ]
    },
    {
      "cell_type": "markdown",
      "metadata": {
        "id": "MFo_JCMDlwpP"
      },
      "source": [
        "## Books\n",
        "\n",
        "[Hands-On Machine Learning with Scikit-Learn, Keras, and TensorFlow, 2nd Edition](https://www.oreilly.com/library/view/hands-on-machine-learning/9781492032632/)"
      ]
    },
    {
      "cell_type": "markdown",
      "metadata": {
        "id": "OrI0JO78bNyJ"
      },
      "source": [
        "## Dataset\n",
        "- [Taxi Data](https://www.mathworks.com/supportfiles/practicaldsmatlab/taxi/Taxi%20Data.zip) - Two percent of the total trips sampled at random from each month of 2015.\n",
        "- [Full Dataset](https://www1.nyc.gov/site/tlc/about/tlc-trip-record-data.page) - 12 years (2009 –2020) worth of Data available"
      ]
    },
    {
      "cell_type": "markdown",
      "metadata": {
        "id": "8v884ms5bQp-"
      },
      "source": [
        "## Coursera Courses\n",
        "  1. [IBM Machine Learning Professional Certificate](https://www.coursera.org/professional-certificates/ibm-machine-learning)\n",
        "  2. [Practical Data Science with MATLAB Specialization](https://www.coursera.org/specializations/practical-data-science-matlab)"
      ]
    }
  ]
}